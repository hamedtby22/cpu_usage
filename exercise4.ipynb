{
  "nbformat": 4,
  "nbformat_minor": 0,
  "metadata": {
    "colab": {
      "provenance": [],
      "authorship_tag": "ABX9TyMu7PhH8bx5ir8OyHjmXUNL",
      "include_colab_link": true
    },
    "kernelspec": {
      "name": "python3",
      "display_name": "Python 3"
    },
    "language_info": {
      "name": "python"
    }
  },
  "cells": [
    {
      "cell_type": "markdown",
      "metadata": {
        "id": "view-in-github",
        "colab_type": "text"
      },
      "source": [
        "<a href=\"https://colab.research.google.com/github/hamedtby22/cpu_usage/blob/main/exercise4.ipynb\" target=\"_parent\"><img src=\"https://colab.research.google.com/assets/colab-badge.svg\" alt=\"Open In Colab\"/></a>"
      ]
    },
    {
      "cell_type": "code",
      "execution_count": null,
      "metadata": {
        "colab": {
          "base_uri": "https://localhost:8080/"
        },
        "id": "w0DVvUKMRXIZ",
        "outputId": "7e74c5ed-4ad7-4d0a-843f-94d5250bc673"
      },
      "outputs": [
        {
          "name": "stdout",
          "output_type": "stream",
          "text": [
            "Usage percentage of each CPU core:\n",
            "Core 0: 12.5%\n",
            "Core 1: 12.0%\n",
            "Total percentage of CPU usage: 12.3%\n",
            "Enter a number (Enter Exit to going out): 3\n",
            "Calculating Fibonacci numbers up to...3\n",
            "Done.\n",
            "Usage percentage of each CPU core:\n",
            "Core 0: 16.3%\n",
            "Core 1: 17.7%\n",
            "Total percentage of CPU usage: 17.0%\n",
            "Enter a number (Enter Exit to going out): 2\n",
            "Calculating Fibonacci numbers up to...2\n",
            "Done.\n",
            "Usage percentage of each CPU core:\n",
            "Core 0: 3.9%\n",
            "Core 1: 3.3%\n",
            "Total percentage of CPU usage: 3.8%\n",
            "Enter a number (Enter Exit to going out): 6\n",
            "Calculating Fibonacci numbers up to...6\n",
            "Done.\n",
            "Usage percentage of each CPU core:\n",
            "Core 0: 8.8%\n",
            "Core 1: 9.4%\n",
            "Total percentage of CPU usage: 9.2%\n",
            "Enter a number (Enter Exit to going out): 10\n",
            "Calculating Fibonacci numbers up to...10\n",
            "Done.\n",
            "Usage percentage of each CPU core:\n",
            "Core 0: 12.4%\n",
            "Core 1: 6.7%\n",
            "Total percentage of CPU usage: 9.6%\n",
            "Enter a number (Enter Exit to going out): exit\n"
          ]
        }
      ],
      "source": [
        "import psutil\n",
        "from multiprocessing import Pool, cpu_count\n",
        "\n",
        "\n",
        "\n",
        "def cpu_usage():\n",
        "    #cpu درصد استفاده از هر هسته \n",
        "    print(\"Usage percentage of each CPU core:\")\n",
        "    for count, percentage in enumerate(psutil.cpu_percent(percpu=True)):\n",
        "        print(f\"Core {count}: {percentage}%\")\n",
        "    print(f\"Total percentage of CPU usage: {psutil.cpu_percent()}%\")\n",
        "\n",
        "\n",
        "def increase_usage(value):\n",
        "    #cpu تابعی برای افزایش استفاده از \n",
        "    if value <= 1:\n",
        "        return value\n",
        "    else:\n",
        "        return increase_usage(value-1) + increase_usage(value-2)\n",
        "\n",
        "\n",
        "if __name__ == \"__main__\":\n",
        "    try:\n",
        "        while True:\n",
        "            cpu_usage()\n",
        "\n",
        "            # یک عدد برای افزایش کارایی پردازنده \n",
        "            input_number = input(\"Enter a number (Enter Exit to going out): \")\n",
        "            if input_number.lower() == 'exit':\n",
        "                break\n",
        "\n",
        "            number = int(input_number)\n",
        "            print(f\"Calculating Fibonacci numbers up to...{number}\")\n",
        "\n",
        "            with Pool(cpu_count()) as count:\n",
        "                count.map(increase_usage, [number for _ in range(cpu_count())])\n",
        "\n",
        "            print(\"Done.\")\n",
        "\n",
        "    except Exception as error:\n",
        "        print(error)"
      ]
    }
  ]
}